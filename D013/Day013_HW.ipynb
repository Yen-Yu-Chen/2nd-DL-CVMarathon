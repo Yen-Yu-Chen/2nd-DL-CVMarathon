{
 "cells": [
  {
   "cell_type": "markdown",
   "metadata": {},
   "source": [
    "# PTT 網路爬蟲實作練習\n",
    "\n",
    "\n",
    "* 能夠利用 Request + BeatifulSour 撰寫爬蟲，並存放到合適的資料結構\n"
   ]
  },
  {
   "cell_type": "markdown",
   "metadata": {},
   "source": [
    "## 作業目標\n",
    "\n",
    "根據範例 ，完成以下問題：\n",
    "\n",
    "* ① 印出最新文章的「作者」「標題」「時間」\n",
    "* ② 印出第一頁所有文章的「作者」「標題」「時間」\n"
   ]
  },
  {
   "cell_type": "markdown",
   "metadata": {},
   "source": [
    "### ① 印出最新文章的「作者」「標題」「時間」"
   ]
  },
  {
   "cell_type": "code",
   "execution_count": 1,
   "metadata": {},
   "outputs": [],
   "source": [
    "import requests\n",
    "from bs4 import BeautifulSoup\n",
    "\n",
    "url = 'https://www.ptt.cc/bbs/NBA/index.html'\n",
    "r = requests.get(url)\n",
    "\n",
    "soup = BeautifulSoup(r.text, \"html5lib\")"
   ]
  },
  {
   "cell_type": "code",
   "execution_count": 19,
   "metadata": {},
   "outputs": [
    {
     "name": "stdout",
     "output_type": "stream",
     "text": [
      "whj0530\n",
      "liuuuuuu\n",
      "freddy910209\n",
      "kit279\n",
      "Vedan\n",
      "qazwsx879345\n",
      "Acetoxy\n",
      "Vedan\n",
      "namie810303\n",
      "[新聞] K湯爸稱若本季就此結束「應宣布湖人拿總\n",
      "[花邊] Embiid新髮型加關心疫情\n",
      "[花邊] Trae Young發起#InHouseChallenge\n",
      "[新聞] 太陽後衛遭釋出　首位受新冠肺炎影響失業\n",
      "[公告] 板規v6.8\n",
      "[公告] 版主上任相關事項 \n",
      "[情報] SEASON Schedule 賽程 March 19–20\n",
      "[公告] 第一次被退文，可在三天後刪除退文\n",
      "[公告]大怒灌 \n",
      " 3/17\n",
      " 3/17\n",
      " 3/17\n",
      " 3/17\n",
      " 5/24\n",
      "10/25\n",
      " 3/02\n",
      " 3/09\n",
      " 3/12\n"
     ]
    }
   ],
   "source": [
    "for d in soup.find_all(class_=\"author\"):\n",
    "    print(d.text)\n",
    "for d in soup.find_all(class_=\"title\"):\n",
    "    print(d.text.replace('\\t', '').replace('\\n', ''))\n",
    "for d in soup.find_all(class_=\"date\"):\n",
    "    print(d.text)\n",
    "\n",
    "    "
   ]
  },
  {
   "cell_type": "markdown",
   "metadata": {},
   "source": [
    "### ② 印出第一頁所有文章的「作者」「標題」「時間」"
   ]
  },
  {
   "cell_type": "code",
   "execution_count": 21,
   "metadata": {},
   "outputs": [
    {
     "name": "stdout",
     "output_type": "stream",
     "text": [
      "Price\n",
      "Price\n",
      "Frankaze\n",
      "Frankaze\n",
      "Price\n",
      "Price\n",
      "Price\n",
      "AmuroNamie\n",
      "toptree\n",
      "skchang\n",
      "shineup\n",
      "cOvi\n",
      "ykshih\n",
      "Frankaze\n",
      "Price\n",
      "Frankaze\n",
      "star1\n",
      "coldspring\n",
      "airbear\n",
      "pennykidd\n",
      "[轉錄]Lyotard 對於太陽板討論串的結論\n",
      "[公告] 請停止一切關於本次活動的發言\n",
      "[轉錄]跟之前那篇比起來 我覺得這篇也應該轉過來\n",
      "[轉錄]再轉一篇好文來\n",
      "[轉錄][情報] 夏洛特山貓系列\n",
      "[轉錄]Re: [心得] 真是受不了糗爺....\n",
      "[轉錄]總冠軍賽NO.2觀後感\n",
      "[心得] Rasheed Wallace\n",
      "掌控球賽的男人\n",
      "[閒聊] 說說2004季後賽名場面回顧\n",
      "[心得] 其實說穿了 就是活塞的防守太可怕了\n",
      "Re: [閒聊] 說說2004季後賽名場面回顧\n",
      "Re: [閒聊] 說說2004季後賽名場面回顧\n",
      "Re: [閒聊] 說說2004季後賽名場面回顧\n",
      "[轉錄]Re: 總冠軍賽NO.3觀後感\n",
      "[轉錄]Re: 總冠軍賽NO.3觀後感\n",
      "Re: [轉錄]Re: 總冠軍賽NO.3觀後感\n",
      "Re: [轉錄]Re: 總冠軍賽NO.3觀後感\n",
      "Re: Kobe is frustrated...\n",
      "Re: [轉錄]Re: 總冠軍賽NO.3觀後感\n",
      " 5/16\n",
      " 5/31\n",
      " 6/08\n",
      " 6/08\n",
      " 6/10\n",
      " 6/10\n",
      " 6/10\n",
      " 6/11\n",
      " 6/12\n",
      " 6/12\n",
      " 6/12\n",
      " 6/12\n",
      " 6/12\n",
      " 6/12\n",
      " 6/14\n",
      " 6/14\n",
      " 6/14\n",
      " 6/14\n",
      " 6/14\n",
      " 6/14\n"
     ]
    }
   ],
   "source": [
    "url = 'https://www.ptt.cc/bbs/NBA/index1.html'\n",
    "r = requests.get(url)\n",
    "\n",
    "soup = BeautifulSoup(r.text, \"html5lib\")\n",
    "for d in soup.find_all(class_=\"author\"):\n",
    "    print(d.text)\n",
    "for d in soup.find_all(class_=\"title\"):\n",
    "    print(d.text.replace('\\t', '').replace('\\n', ''))\n",
    "for d in soup.find_all(class_=\"date\"):\n",
    "    print(d.text)\n"
   ]
  },
  {
   "cell_type": "markdown",
   "metadata": {},
   "source": [
    "### ③ 試著爬爬看其他版的文章"
   ]
  },
  {
   "cell_type": "code",
   "execution_count": 32,
   "metadata": {},
   "outputs": [
    {
     "name": "stdout",
     "output_type": "stream",
     "text": [
      "ddtlau\n",
      "jennewton\n",
      "kenfish\n",
      "loser1\n",
      "jduge\n",
      "ivysky\n",
      "ivysky\n",
      "Junchoon\n",
      "Junchoon\n",
      "[閒聊] 牛肉&泡菜炒烏龍麵\n",
      "[閒聊] 新冠狀病毐的生活感言--謝謝美食板\n",
      "[問題] 調理機的選擇\n",
      "Re: [問題] 最近菜價下跌的原因是什麼啊?\n",
      "[問題] 滷肉 與 鍋 的問題請教\n",
      "[板務] 查詢食材 別稱 別字 及查詢文章代碼(AID)\n",
      "[板務] 廚事之好康:交換/合購/代買/二手,集中回報\n",
      "[公告] cookclub板旨及板規與發文應注意事項\n",
      "[板務] 食材菜價 各地行情回報\n",
      " 3/17\n",
      " 3/17\n",
      " 3/17\n",
      " 3/17\n",
      " 3/17\n",
      " 9/10\n",
      "11/30\n",
      "12/04\n",
      " 7/02\n"
     ]
    }
   ],
   "source": [
    "import requests\n",
    "from bs4 import BeautifulSoup\n",
    "\n",
    "url = 'https://www.ptt.cc/bbs/cookclub/index.html'\n",
    "r = requests.get(url)\n",
    "\n",
    "soup = BeautifulSoup(r.text, \"html5lib\")\n",
    "for d in soup.find_all(class_=\"author\"):\n",
    "    print(d.text)\n",
    "for d in soup.find_all(class_=\"title\"):\n",
    "    print(d.text.replace('\\t', '').replace('\\n', ''))\n",
    "for d in soup.find_all(class_=\"date\"):\n",
    "    print(d.text)\n"
   ]
  },
  {
   "cell_type": "code",
   "execution_count": null,
   "metadata": {},
   "outputs": [],
   "source": []
  }
 ],
 "metadata": {
  "kernelspec": {
   "display_name": "Python 3",
   "language": "python",
   "name": "python3"
  },
  "language_info": {
   "codemirror_mode": {
    "name": "ipython",
    "version": 3
   },
   "file_extension": ".py",
   "mimetype": "text/x-python",
   "name": "python",
   "nbconvert_exporter": "python",
   "pygments_lexer": "ipython3",
   "version": "3.7.3"
  }
 },
 "nbformat": 4,
 "nbformat_minor": 2
}
